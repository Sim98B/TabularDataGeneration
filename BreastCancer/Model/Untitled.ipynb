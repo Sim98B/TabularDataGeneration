{
 "cells": [
  {
   "cell_type": "code",
   "execution_count": null,
   "id": "a1c2ecb5",
   "metadata": {},
   "outputs": [],
   "source": [
    "import argparse\n",
    "import numpy as np\n",
    "import pandas as pd\n",
    "import random\n",
    "import torch\n",
    "import torch.nn as nn\n",
    "import joblib\n",
    "from sklearn.preprocessing import MinMaxScaler\n",
    "\n",
    "class WGenerator(nn.Module):\n",
    "    def __init__(self, noise_dim, class_dim, output_dim):\n",
    "        super(WGenerator, self).__init__()\n",
    "        \n",
    "        self.model = nn.Sequential(\n",
    "            nn.Linear(noise_dim + class_dim, 128),\n",
    "            nn.BatchNorm1d(128),\n",
    "            nn.LeakyReLU(0.2),\n",
    "            nn.Linear(128, 64),\n",
    "            nn.BatchNorm1d(64),\n",
    "            nn.LeakyReLU(0.2),\n",
    "            nn.Linear(64, output_dim), \n",
    "            nn.Tanh()\n",
    "        )\n",
    "    \n",
    "    def forward(self, noise, labels):\n",
    "        labels = labels.unsqueeze(1)\n",
    "        x = torch.cat([noise, labels], dim = 1)\n",
    "        return self.model(x)\n",
    "        \n",
    "    generator = WGenerator(noise_dim = 100, class_dim = 1, output_dim = 30)\n",
    "    generator.load_state_dict(torch.load(path_to_weights))\n",
    "    generator.eval()\n",
    "    return generator\n",
    "\n",
    "def generate_breast_cancer_data(model: torch.nn.Module, scaler, benign: int = 357, malignant: int = 212, seed: int = None):\n",
    "    \n",
    "    if seed is not None:\n",
    "        torch.manual_seed(seed)\n",
    "        np.random.seed(seed)\n",
    "        random.seed(seed)\n",
    "    \n",
    "    mapping_dict = {0: 'benign', 1: 'malignant'}\n",
    "    feature_names_list = ['mean radius', 'mean texture', 'mean perimeter', 'mean area', 'mean smoothness', \n",
    "                          'mean compactness', 'mean concavity', 'mean concave points', 'mean symmetry', \n",
    "                          'mean fractal dimension', 'radius error', 'texture error', 'perimeter error', 'area error', \n",
    "                          'smoothness error', 'compactness error', 'concavity error', 'concave points error', 'symmetry error', \n",
    "                          'fractal dimension error', 'worst radius', 'worst texture', 'worst perimeter', 'worst area', \n",
    "                          'worst smoothness', 'worst compactness', 'worst concavity', 'worst concave points', \n",
    "                          'worst symmetry', 'worst fractal dimension']\n",
    "    \n",
    "    benign_label = torch.zeros(benign, dtype = torch.long)\n",
    "    malignant_label = torch.ones(malignant, dtype = torch.long)\n",
    "    \n",
    "    label_array = np.concatenate((benign_label, malignant_label))\n",
    "    label_tensor = torch.cat([benign_label, malignant_label], 0)\n",
    "    noise_vector = torch.randn(benign + malignant, 100)\n",
    "    \n",
    "    generated_array = model(noise_vector, label_tensor).detach().numpy()\n",
    "    data_array = scaler.inverse_transform(generated_array)\n",
    "    \n",
    "    breast_cancer_dataframe = pd.DataFrame(data_array, columns = feature_names_list)\n",
    "    breast_cancer_dataframe['target'] = label_array\n",
    "    breast_cancer_dataframe['target'] = breast_cancer_dataframe['target'].map(mapping_dict)\n",
    "    \n",
    "    return iris_dataframe\n",
    "\n",
    "def main():\n",
    "    parser = argparse.ArgumentParser(description=\"Generate synthetic Iris dataset\")\n",
    "    parser.add_argument(\"--weights\", type = str, required = True, help = \"Path to generator weights (.pth file)\")\n",
    "    parser.add_argument(\"--scaler\", type = str, required = True, help = \"Path to saved scaler (.pkl file)\")\n",
    "    parser.add_argument(\"--benign\", type = int, default = 357, help = \"Number of benign samples\")\n",
    "    parser.add_argument(\"--malignant\", type = int, default = 212, help = \"Number of malignant samples\")\n",
    "    parser.add_argument(\"--seed\", type = int, default = None, help = \"Random seed for reproducibility\")\n",
    "    parser.add_argument(\"--output\", type = str, default = \"SyntheticBreastCancer.csv\", help = \"Output CSV file path\")\n",
    "    \n",
    "    args = parser.parse_args()\n",
    "    \n",
    "    model = create_generator(args.weights)\n",
    "    scaler = joblib.load(args.scaler)\n",
    "    df = generate_breast_cancer_data(model, scaler, args.benign, args.malignant, args.seed)\n",
    "    df.to_csv(args.output, index = False)\n",
    "    print(f\"Dataset saved to {args.output}\")\n",
    "\n",
    "if __name__ == \"__main__\":\n",
    "    main()"
   ]
  }
 ],
 "metadata": {
  "kernelspec": {
   "display_name": "Python 3 (ipykernel)",
   "language": "python",
   "name": "python3"
  },
  "language_info": {
   "codemirror_mode": {
    "name": "ipython",
    "version": 3
   },
   "file_extension": ".py",
   "mimetype": "text/x-python",
   "name": "python",
   "nbconvert_exporter": "python",
   "pygments_lexer": "ipython3",
   "version": "3.10.9"
  },
  "varInspector": {
   "cols": {
    "lenName": 16,
    "lenType": 16,
    "lenVar": 40
   },
   "kernels_config": {
    "python": {
     "delete_cmd_postfix": "",
     "delete_cmd_prefix": "del ",
     "library": "var_list.py",
     "varRefreshCmd": "print(var_dic_list())"
    },
    "r": {
     "delete_cmd_postfix": ") ",
     "delete_cmd_prefix": "rm(",
     "library": "var_list.r",
     "varRefreshCmd": "cat(var_dic_list()) "
    }
   },
   "types_to_exclude": [
    "module",
    "function",
    "builtin_function_or_method",
    "instance",
    "_Feature"
   ],
   "window_display": false
  }
 },
 "nbformat": 4,
 "nbformat_minor": 5
}
