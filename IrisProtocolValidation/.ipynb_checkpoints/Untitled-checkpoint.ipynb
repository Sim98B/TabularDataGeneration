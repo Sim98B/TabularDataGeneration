{
 "cells": [
  {
   "cell_type": "code",
   "execution_count": 7,
   "id": "046d1150",
   "metadata": {
    "ExecuteTime": {
     "end_time": "2025-02-07T14:52:31.922170Z",
     "start_time": "2025-02-07T14:52:31.919377Z"
    }
   },
   "outputs": [],
   "source": [
    "import torch\n",
    "import pandas as pd\n",
    "import numpy as np\n",
    "import joblib\n",
    "import os"
   ]
  },
  {
   "cell_type": "code",
   "execution_count": 3,
   "id": "b16fa694",
   "metadata": {
    "ExecuteTime": {
     "end_time": "2025-02-07T14:45:42.334063Z",
     "start_time": "2025-02-07T14:45:41.876775Z"
    }
   },
   "outputs": [],
   "source": [
    "scl = joblib.load('scaler.pkl')"
   ]
  },
  {
   "cell_type": "code",
   "execution_count": 5,
   "id": "0cd181a6",
   "metadata": {
    "ExecuteTime": {
     "end_time": "2025-02-07T14:52:07.925087Z",
     "start_time": "2025-02-07T14:52:07.914848Z"
    }
   },
   "outputs": [],
   "source": [
    "def create_generator(path_to_weights: str):\n",
    "    class WGenerator(nn.Module):\n",
    "        def __init__(self, noise_dim, hidden_dim, class_dim, output_dim):\n",
    "            super(WGenerator, self).__init__()\n",
    "\n",
    "            self.model = nn.Sequential(\n",
    "                nn.Linear(noise_dim + class_dim, hidden_dim),\n",
    "                nn.ReLU(),\n",
    "                nn.Linear(hidden_dim, hidden_dim),\n",
    "                nn.ReLU(),\n",
    "                nn.Linear(hidden_dim, output_dim), \n",
    "            )\n",
    "\n",
    "        def forward(self, noise, labels):\n",
    "            labels = labels.unsqueeze(1)\n",
    "            x = torch.cat([noise, labels], dim=1)\n",
    "            return self.model(x)\n",
    "        \n",
    "    generator = WGenerator(noise_dim = 16, hidden_dim = 32, class_dim = 1, output_dim = 1)\n",
    "    generator.load_state_dict(path_to_weights)\n",
    "    \n",
    "    return generator"
   ]
  },
  {
   "cell_type": "code",
   "execution_count": null,
   "id": "84ae63c7",
   "metadata": {},
   "outputs": [],
   "source": [
    "create_generator()"
   ]
  }
 ],
 "metadata": {
  "kernelspec": {
   "display_name": "Python 3 (ipykernel)",
   "language": "python",
   "name": "python3"
  },
  "language_info": {
   "codemirror_mode": {
    "name": "ipython",
    "version": 3
   },
   "file_extension": ".py",
   "mimetype": "text/x-python",
   "name": "python",
   "nbconvert_exporter": "python",
   "pygments_lexer": "ipython3",
   "version": "3.10.9"
  },
  "varInspector": {
   "cols": {
    "lenName": 16,
    "lenType": 16,
    "lenVar": 40
   },
   "kernels_config": {
    "python": {
     "delete_cmd_postfix": "",
     "delete_cmd_prefix": "del ",
     "library": "var_list.py",
     "varRefreshCmd": "print(var_dic_list())"
    },
    "r": {
     "delete_cmd_postfix": ") ",
     "delete_cmd_prefix": "rm(",
     "library": "var_list.r",
     "varRefreshCmd": "cat(var_dic_list()) "
    }
   },
   "types_to_exclude": [
    "module",
    "function",
    "builtin_function_or_method",
    "instance",
    "_Feature"
   ],
   "window_display": false
  }
 },
 "nbformat": 4,
 "nbformat_minor": 5
}
